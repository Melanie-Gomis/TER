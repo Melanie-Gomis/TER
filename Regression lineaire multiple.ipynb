{
 "cells": [
  {
   "cell_type": "code",
   "execution_count": 2,
   "id": "86136e70-2f05-4a8f-8ad9-2ce808acd598",
   "metadata": {},
   "outputs": [
    {
     "name": "stdout",
     "output_type": "stream",
     "text": [
      "c:\\Users\\nguye\\Desktop\\Enzo\\Cours\\M1 MIASHS\\TER - Redshift\\Données\n"
     ]
    }
   ],
   "source": [
    "import os\n",
    "\n",
    "# Afficher le répertoire courant\n",
    "#print(os.getcwd())\n",
    "\n",
    "# Mettre dossier de base\n",
    "os.chdir(\"..\\Données\")\n",
    "\n",
    "print(os.getcwd())  # Vérifie\n"
   ]
  },
  {
   "cell_type": "markdown",
   "id": "da65eaf1-bbb4-4f65-a913-226b0f78fa9d",
   "metadata": {},
   "source": [
    "Objectif\n",
    "--------\n",
    "Créer un modèle de régression linéaire (baseline OLS + Ridge) pour prédire le redshift ZSPEC\n",
    "à partir des magnitudes (u, g, r, i, z, y, …). Le code :\n",
    "1) charge ton .npz,\n",
    "2) extrait les colonnes utiles,\n",
    "3) gère les valeurs manquantes (-99, etc.),\n",
    "4) crée des couleurs (différences de magnitudes),\n",
    "5) split train/test, standardise,\n",
    "6) entraîne OLS et Ridge,\n",
    "7) évalue (MAE, RMSE, R²) et trace Vrai vs Prédit."
   ]
  },
  {
   "cell_type": "code",
   "execution_count": 6,
   "id": "3f415fda-4f4b-4ca2-8cbd-ff2d7215ab9c",
   "metadata": {},
   "outputs": [],
   "source": [
    "import numpy as np\n",
    "import pandas as pd\n",
    "import matplotlib.pyplot as plt\n",
    "\n",
    "from sklearn.model_selection import train_test_split\n",
    "from sklearn.preprocessing import StandardScaler\n",
    "from sklearn.impute import SimpleImputer\n",
    "from sklearn.linear_model import LinearRegression, Ridge\n",
    "from sklearn.metrics import mean_absolute_error, mean_squared_error, r2_score"
   ]
  },
  {
   "cell_type": "markdown",
   "id": "3be65b8d-f904-467f-9b24-67d34e7f4716",
   "metadata": {},
   "source": [
    "0) Paramètres / fichier\n"
   ]
  },
  {
   "cell_type": "code",
   "execution_count": 7,
   "id": "e8ed8f09-756c-4cbb-bd14-6b8e7a15cebb",
   "metadata": {},
   "outputs": [],
   "source": [
    "npz_path = \"XMM_LSS_v11_uijk_0006_spec_D.npz\"  # adapte le chemin si besoin\n",
    "bands_all = [\"u\",\"g\",\"r\",\"i\",\"z\",\"y\",\"J\",\"H\",\"K\"]  # ordre logique des bandes"
   ]
  },
  {
   "cell_type": "markdown",
   "id": "04d3916a-9306-4d2b-bfa7-fb5ffc2f435f",
   "metadata": {},
   "source": [
    "1) Charger les données"
   ]
  },
  {
   "cell_type": "code",
   "execution_count": 8,
   "id": "7a89455c-060b-4b44-875b-a0345c0fd1bd",
   "metadata": {},
   "outputs": [],
   "source": [
    "data = np.load(npz_path, allow_pickle=True)\n",
    "info = data[\"info\"]  # tableau structuré (dtype avec champs nommés)\n",
    "\n",
    "# Vérifier quelles bandes et la cible existent réellement\n",
    "mag_cols = [b for b in bands_all if b in info.dtype.names]\n",
    "target_col = \"ZSPEC\"\n",
    "if target_col not in info.dtype.names:\n",
    "    raise RuntimeError(\"La cible ZSPEC n'est pas présente dans info.\")"
   ]
  },
  {
   "cell_type": "markdown",
   "id": "1db5156b",
   "metadata": {},
   "source": [
    "2) Construire un DataFrame"
   ]
  },
  {
   "cell_type": "code",
   "execution_count": 9,
   "id": "6f938755",
   "metadata": {},
   "outputs": [],
   "source": [
    "df = pd.DataFrame({c: info[c].astype(float) for c in mag_cols})\n",
    "df[\"ZSPEC\"] = info[target_col].astype(float)"
   ]
  },
  {
   "cell_type": "markdown",
   "id": "57e66406",
   "metadata": {},
   "source": [
    "3) Nettoyage des valeurs manquantes"
   ]
  },
  {
   "cell_type": "code",
   "execution_count": 12,
   "id": "d6e15ad8",
   "metadata": {},
   "outputs": [],
   "source": [
    "# Les valeurs sentinelles (-99, etc.) signifient “pas de mesure”.\n",
    "sentinels = [-99.0, -99.108, -999.0, 99.0]\n",
    "df = df.replace(sentinels, np.nan)\n",
    "\n",
    "# Supprimer les bandes TROP manquantes (ex: on garde les colonnes avec >= 5 valeurs valides)\n",
    "min_valid = 5 if len(df) >= 8 else max(3, int(len(df)*0.6))\n",
    "keep_mag = [c for c in mag_cols if df[c].notna().sum() >= min_valid]\n",
    "df = df[keep_mag + [\"ZSPEC\"]]"
   ]
  },
  {
   "cell_type": "markdown",
   "id": "61355ec7",
   "metadata": {},
   "source": [
    "4) Créer des couleurs"
   ]
  },
  {
   "cell_type": "code",
   "execution_count": 13,
   "id": "131dc21e",
   "metadata": {},
   "outputs": [],
   "source": [
    "# Les couleurs (différences) capturent mieux la forme du SED que les magnitudes absolues.\n",
    "ordered = [b for b in bands_all if b in keep_mag]\n",
    "for a, b in zip(ordered, ordered[1:]):\n",
    "    df[f\"{a}-{b}\"] = df[a] - df[b]"
   ]
  },
  {
   "cell_type": "markdown",
   "id": "d7bc49df",
   "metadata": {},
   "source": [
    "5) Features / Cible"
   ]
  },
  {
   "cell_type": "code",
   "execution_count": 14,
   "id": "0628b6b2",
   "metadata": {},
   "outputs": [],
   "source": [
    "X_cols = [c for c in df.columns if c != \"ZSPEC\"]\n",
    "X = df[X_cols].values\n",
    "y = df[\"ZSPEC\"].values\n",
    "\n",
    "# Imputation des NaN restants (médiane par colonne)\n",
    "X = SimpleImputer(strategy=\"median\").fit_transform(X)"
   ]
  },
  {
   "cell_type": "markdown",
   "id": "86abd5dc",
   "metadata": {},
   "source": [
    "6) Split + standardisation"
   ]
  },
  {
   "cell_type": "code",
   "execution_count": 15,
   "id": "dd08b574",
   "metadata": {},
   "outputs": [],
   "source": [
    "# Jeu minuscule -> test_size un peu plus grand pour garder au moins 2 points de test\n",
    "test_size = 0.25 if len(df) >= 8 else 0.33 if len(df) >= 3 else 0.5\n",
    "X_train, X_test, y_train, y_test = train_test_split(X, y, test_size=test_size, random_state=42)\n",
    "\n",
    "scaler = StandardScaler()\n",
    "X_train_s = scaler.fit_transform(X_train)\n",
    "X_test_s  = scaler.transform(X_test)"
   ]
  },
  {
   "cell_type": "markdown",
   "id": "6df28677",
   "metadata": {},
   "source": [
    "7) Modèles : OLS + Ridge"
   ]
  },
  {
   "cell_type": "code",
   "execution_count": null,
   "id": "7c666da6",
   "metadata": {},
   "outputs": [
    {
     "name": "stdout",
     "output_type": "stream",
     "text": [
      "Colonnes magnitudes conservées: ['u', 'g', 'r', 'i', 'z', 'y']\n",
      "Features utilisées: ['u', 'g', 'r', 'i', 'z', 'y', 'u-g', 'g-r', 'r-i', 'i-z', 'z-y']\n",
      "Taille finale: (8, 12) \n",
      "\n",
      "==> Performances sur test :\n",
      "     OLS | MAE=10.9690 | RMSE=14.7859 | R^2=-2962.1774\n",
      "   Ridge | MAE=2.5002 | RMSE=3.3922 | R^2=-154.9620\n"
     ]
    },
    {
     "data": {
      "text/plain": [
       "(2.5002139841035427, np.float64(3.3921825112811503), -154.96204742100815)"
      ]
     },
     "execution_count": 18,
     "metadata": {},
     "output_type": "execute_result"
    }
   ],
   "source": [
    "ols   = LinearRegression().fit(X_train_s, y_train) # OLS = Ordinary Least Squares = régression linéaire classique\n",
    "ridge = Ridge(alpha=1.0, random_state=42).fit(X_train_s, y_train) # Ridge = régression linéaire avec régularisation L2\n",
    "\n",
    "def report(name, y_true, y_pred):\n",
    "    mae  = mean_absolute_error(y_true, y_pred) # Mean Absolute Error = Erreur Absolue Moyenne\n",
    "    rmse = np.sqrt(mean_squared_error(y_true, y_pred)) # Root Mean Squared Error = Erreur Quadratique Moyenne\n",
    "    r2   = r2_score(y_true, y_pred) # Coefficient de détermination R^2 = proportion de variance expliquée\n",
    "    print(f\"{name:>8s} | MAE={mae:.4f} | RMSE={rmse:.4f} | R^2={r2:.4f}\")\n",
    "    return mae, rmse, r2\n",
    "\n",
    "print(\"Colonnes magnitudes conservées:\", keep_mag)\n",
    "print(\"Features utilisées:\", X_cols)\n",
    "print(\"Taille finale:\", df.shape, \"\\n\")\n",
    "\n",
    "print(\"==> Performances sur test :\")\n",
    "y_pred_ols = ols.predict(X_test_s)\n",
    "y_pred_rdg = ridge.predict(X_test_s)\n",
    "report(\"OLS\",   y_test, y_pred_ols)\n",
    "report(\"Ridge\", y_test, y_pred_rdg)"
   ]
  },
  {
   "cell_type": "markdown",
   "id": "b543f859",
   "metadata": {},
   "source": [
    "8) Visualisation"
   ]
  },
  {
   "cell_type": "code",
   "execution_count": 19,
   "id": "cb1e3b1f",
   "metadata": {},
   "outputs": [
    {
     "data": {
      "image/png": "[encoded data removed]",
      "text/plain": [
       "<Figure size 600x600 with 1 Axes>"
      ]
     },
     "metadata": {},
     "output_type": "display_data"
    }
   ],
   "source": [
    "plt.figure(figsize=(6,6))\n",
    "plt.scatter(y_test, y_pred_rdg, s=30)         # points prédits\n",
    "mn = float(min(y_test.min(), y_pred_rdg.min()))\n",
    "mx = float(max(y_test.max(), y_pred_rdg.max()))\n",
    "plt.plot([mn, mx], [mn, mx], linestyle=\"--\")  # diagonale “parfaite”\n",
    "plt.xlabel(\"Z_SPEC (vrai)\")\n",
    "plt.ylabel(\"Z_SPEC (prédit)\")\n",
    "plt.title(\"Régression linéaire Ridge — Vrai vs Prédit\")\n",
    "plt.tight_layout()\n",
    "plt.show()"
   ]
  },
  {
   "cell_type": "markdown",
   "id": "c9b45b17",
   "metadata": {},
   "source": [
    "9) Interprétation simple"
   ]
  },
  {
   "cell_type": "code",
   "execution_count": 20,
   "id": "8de90a78",
   "metadata": {},
   "outputs": [
    {
     "name": "stdout",
     "output_type": "stream",
     "text": [
      "\n",
      "Coefficients (triés par |coef_Ridge|) :\n",
      "feature   coef_OLS  coef_Ridge\n",
      "      r   7.858662    0.143249\n",
      "      y  -8.553443    0.131947\n",
      "      u   2.832755    0.108104\n",
      "      i  -1.929446    0.093236\n",
      "      z   0.599665    0.083402\n",
      "    r-i   2.650454   -0.064908\n",
      "    z-y   1.874681    0.058272\n",
      "      g  -6.205479    0.045449\n",
      "    u-g -16.815553   -0.044731\n",
      "    i-z  -2.507649    0.023516\n",
      "    g-r  -6.762011    0.019447\n"
     ]
    }
   ],
   "source": [
    "coef_table = pd.DataFrame({\n",
    "    \"feature\": X_cols,\n",
    "    \"coef_OLS\": ols.coef_,\n",
    "    \"coef_Ridge\": ridge.coef_\n",
    "}).sort_values(\"coef_Ridge\", key=lambda s: s.abs(), ascending=False)\n",
    "print(\"\\nCoefficients (triés par |coef_Ridge|) :\")\n",
    "print(coef_table.to_string(index=False))"
   ]
  }
 ],
 "metadata": {
  "kernelspec": {
   "display_name": "Python 3 (ipykernel)",
   "language": "python",
   "name": "python3"
  },
  "language_info": {
   "codemirror_mode": {
    "name": "ipython",
    "version": 3
   },
   "file_extension": ".py",
   "mimetype": "text/x-python",
   "name": "python",
   "nbconvert_exporter": "python",
   "pygments_lexer": "ipython3",
   "version": "3.12.8"
  }
 },
 "nbformat": 4,
 "nbformat_minor": 5
}
