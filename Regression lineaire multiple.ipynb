{
 "cells": [
  {
   "cell_type": "code",
   "execution_count": 222,
   "id": "86136e70-2f05-4a8f-8ad9-2ce808acd598",
   "metadata": {},
   "outputs": [
    {
     "name": "stdout",
     "output_type": "stream",
     "text": [
      "c:\\Users\\nguye\\Desktop\\Enzo\\Cours\\M1 MIASHS\\TER - Redshift\\Données\n"
     ]
    }
   ],
   "source": [
    "import os\n",
    "\n",
    "# Afficher le répertoire courant\n",
    "#print(os.getcwd())\n",
    "\n",
    "# Mettre dossier de base\n",
    "os.chdir(\"..\\Données\")\n",
    "\n",
    "print(os.getcwd())  # Vérifie\n"
   ]
  },
  {
   "cell_type": "markdown",
   "id": "da65eaf1-bbb4-4f65-a913-226b0f78fa9d",
   "metadata": {},
   "source": [
    "Objectif\n",
    "--------\n",
    "Créer un modèle de régression linéaire (baseline OLS + Ridge) pour prédire le redshift ZSPEC\n",
    "à partir des magnitudes (u, g, r, i, z, y, …). Le code :\n",
    "1) charge ton .npz,\n",
    "2) extrait les colonnes utiles,\n",
    "3) gère les valeurs manquantes (-99, etc.),\n",
    "4) crée des couleurs (différences de magnitudes),\n",
    "5) split train/test, standardise,\n",
    "6) entraîne OLS et Ridge,\n",
    "7) évalue (MAE, RMSE, R²) et trace Vrai vs Prédit."
   ]
  },
  {
   "cell_type": "code",
   "execution_count": 223,
   "id": "3f415fda-4f4b-4ca2-8cbd-ff2d7215ab9c",
   "metadata": {},
   "outputs": [],
   "source": [
    "import numpy as np\n",
    "import pandas as pd\n",
    "import matplotlib.pyplot as plt\n",
    "\n",
    "from sklearn.model_selection import train_test_split\n",
    "from sklearn.preprocessing import StandardScaler\n",
    "from sklearn.impute import SimpleImputer\n",
    "from sklearn.linear_model import LinearRegression, Ridge\n",
    "from sklearn.metrics import mean_absolute_error, mean_squared_error, r2_score"
   ]
  },
  {
   "cell_type": "markdown",
   "id": "3be65b8d-f904-467f-9b24-67d34e7f4716",
   "metadata": {},
   "source": [
    "0) Paramètres / fichier\n"
   ]
  },
  {
   "cell_type": "code",
   "execution_count": 224,
   "id": "e8ed8f09-756c-4cbb-bd14-6b8e7a15cebb",
   "metadata": {},
   "outputs": [
    {
     "name": "stdout",
     "output_type": "stream",
     "text": [
      "['cube', 'info', 'flag']\n",
      "('ID', 'RA', 'DEC', 'TRACT', 'PATCH', 'MASK', 'FLAG_FIELD', 'EB_V', 'CLASS_STAR_HSC_I', 'u', 'uS', 'g', 'r', 'i', 'z', 'y', 'J', 'H', 'Ks', 'u_err', 'uS_err', 'g_err', 'r_err', 'i_err', 'z_err', 'y_err', 'J_err', 'H_err', 'Ks_err', 'ZPHOT', 'OBJ_TYPE', 'COMPACT', 'STAR_FORMING', 'ST_TRAIL', 'CLEAN', 'EBV', 'LABEL')\n"
     ]
    }
   ],
   "source": [
    "npz_path = \"COSMOS_v11_uijk_0001_photo_D.npz\"\n",
    "bands_all = [\"u\",\"g\",\"r\",\"i\",\"z\",\"y\",\"J\",\"H\"]  # ordre logique des bandes\n",
    "data = np.load(npz_path, allow_pickle=True)\n",
    "info = data['info']\n",
    "print(data.files)\n",
    "print(info.dtype.names)"
   ]
  },
  {
   "cell_type": "markdown",
   "id": "04d3916a-9306-4d2b-bfa7-fb5ffc2f435f",
   "metadata": {},
   "source": [
    "1) Charger les données"
   ]
  },
  {
   "cell_type": "code",
   "execution_count": 225,
   "id": "7a89455c-060b-4b44-875b-a0345c0fd1bd",
   "metadata": {},
   "outputs": [
    {
     "name": "stdout",
     "output_type": "stream",
     "text": [
      "La cible ZSPEC n'est pas présente dans info. \n",
      "On prend donc ZPHOT\n"
     ]
    }
   ],
   "source": [
    "# Vérifier quelles bandes et la cible existent réellement\n",
    "mag_cols = [b for b in bands_all if b in info.dtype.names]\n",
    "target_col = \"ZSPEC\"\n",
    "if target_col not in info.dtype.names:\n",
    "    print(\"La cible ZSPEC n'est pas présente dans info. \\nOn prend donc ZPHOT\")\n",
    "    target_col = \"ZPHOT\""
   ]
  },
  {
   "cell_type": "markdown",
   "id": "1db5156b",
   "metadata": {},
   "source": [
    "2) Construire un DataFrame"
   ]
  },
  {
   "cell_type": "code",
   "execution_count": 226,
   "id": "6f938755",
   "metadata": {},
   "outputs": [],
   "source": [
    "df = pd.DataFrame({c: info[c].astype(float) for c in mag_cols})\n",
    "df[\"ZSPEC\"] = info[target_col].astype(float)"
   ]
  },
  {
   "cell_type": "markdown",
   "id": "57e66406",
   "metadata": {},
   "source": [
    "3) Nettoyage des valeurs manquantes"
   ]
  },
  {
   "cell_type": "code",
   "execution_count": 227,
   "id": "d6e15ad8",
   "metadata": {},
   "outputs": [],
   "source": [
    "# Les valeurs sentinelles (-99, etc.) signifient “pas de mesure”.\n",
    "sentinels = [-99.0, -99.108, -999.0, 99.0]\n",
    "df = df.replace(sentinels, np.nan)\n",
    "\n",
    "# Supprimer les bandes TROP manquantes (ex: on garde les colonnes avec >= 5 valeurs valides)\n",
    "min_valid = 5 if len(df) >= 8 else max(3, int(len(df)*0.6))\n",
    "keep_mag = [c for c in mag_cols if df[c].notna().sum() >= min_valid]\n",
    "df = df[keep_mag + [\"ZSPEC\"]]"
   ]
  },
  {
   "cell_type": "markdown",
   "id": "61355ec7",
   "metadata": {},
   "source": [
    "4) Créer des couleurs"
   ]
  },
  {
   "cell_type": "code",
   "execution_count": 228,
   "id": "131dc21e",
   "metadata": {},
   "outputs": [],
   "source": [
    "# Les couleurs (différences) capturent mieux la forme du SED que les magnitudes absolues.\n",
    "ordered = [b for b in bands_all if b in keep_mag]\n",
    "for a, b in zip(ordered, ordered[1:]):\n",
    "    df[f\"{a}-{b}\"] = df[a] - df[b]"
   ]
  },
  {
   "cell_type": "markdown",
   "id": "d7bc49df",
   "metadata": {},
   "source": [
    "5) Features / Cible"
   ]
  },
  {
   "cell_type": "code",
   "execution_count": 229,
   "id": "0628b6b2",
   "metadata": {},
   "outputs": [],
   "source": [
    "X_cols = [c for c in df.columns if c != \"ZSPEC\"]\n",
    "X = df[X_cols].values\n",
    "y = df[\"ZSPEC\"].values\n",
    "\n",
    "# Imputation des NaN restants (médiane par colonne)\n",
    "X = SimpleImputer(strategy=\"median\").fit_transform(X)"
   ]
  },
  {
   "cell_type": "markdown",
   "id": "86abd5dc",
   "metadata": {},
   "source": [
    "6) Split + standardisation"
   ]
  },
  {
   "cell_type": "code",
   "execution_count": 230,
   "id": "dd08b574",
   "metadata": {},
   "outputs": [],
   "source": [
    "# Jeu minuscule -> test_size un peu plus grand pour garder au moins 2 points de test\n",
    "test_size = 0.25 if len(df) >= 8 else 0.33 if len(df) >= 3 else 0.5\n",
    "X_train, X_test, y_train, y_test = train_test_split(X, y, test_size=test_size, random_state=42)\n",
    "\n",
    "scaler = StandardScaler()\n",
    "X_train_s = scaler.fit_transform(X_train)\n",
    "X_test_s  = scaler.transform(X_test)"
   ]
  },
  {
   "cell_type": "markdown",
   "id": "6df28677",
   "metadata": {},
   "source": [
    "7) Modèles : OLS + Ridge"
   ]
  },
  {
   "cell_type": "code",
   "execution_count": 231,
   "id": "7c666da6",
   "metadata": {},
   "outputs": [
    {
     "name": "stdout",
     "output_type": "stream",
     "text": [
      "Colonnes magnitudes conservées: ['u', 'g', 'r', 'i', 'z', 'y']\n",
      "Features utilisées: ['u', 'g', 'r', 'i', 'z', 'y', 'u-g', 'g-r', 'r-i', 'i-z', 'z-y']\n",
      "Taille finale: (12054, 12) \n",
      "\n",
      "==> Performances sur test :\n",
      "     OLS | MAE=0.6417 | RMSE=0.8303 | R^2=0.1208\n",
      "   Ridge | MAE=0.6417 | RMSE=0.8303 | R^2=0.1208\n"
     ]
    },
    {
     "data": {
      "text/plain": [
       "(0.6417128536233025, np.float64(0.8302583006095806), 0.12078216839522637)"
      ]
     },
     "execution_count": 231,
     "metadata": {},
     "output_type": "execute_result"
    }
   ],
   "source": [
    "ols   = LinearRegression().fit(X_train_s, y_train) # OLS = Ordinary Least Squares = régression linéaire classique\n",
    "ridge = Ridge(alpha=1.0, random_state=42).fit(X_train_s, y_train) # Ridge = régression linéaire avec régularisation L2\n",
    "\n",
    "def report(name, y_true, y_pred):\n",
    "    mae  = mean_absolute_error(y_true, y_pred) # Mean Absolute Error = Erreur Absolue Moyenne\n",
    "    rmse = np.sqrt(mean_squared_error(y_true, y_pred)) # Root Mean Squared Error = Erreur Quadratique Moyenne\n",
    "    r2   = r2_score(y_true, y_pred) # Coefficient de détermination R^2 = proportion de variance expliquée\n",
    "    print(f\"{name:>8s} | MAE={mae:.4f} | RMSE={rmse:.4f} | R^2={r2:.4f}\")\n",
    "    return mae, rmse, r2\n",
    "\n",
    "print(\"Colonnes magnitudes conservées:\", keep_mag)\n",
    "print(\"Features utilisées:\", X_cols)\n",
    "print(\"Taille finale:\", df.shape, \"\\n\")\n",
    "\n",
    "print(\"==> Performances sur test :\")\n",
    "y_pred_ols = ols.predict(X_test_s)\n",
    "y_pred_rdg = ridge.predict(X_test_s)\n",
    "report(\"OLS\",   y_test, y_pred_ols)\n",
    "report(\"Ridge\", y_test, y_pred_rdg)"
   ]
  },
  {
   "cell_type": "markdown",
   "id": "b543f859",
   "metadata": {},
   "source": [
    "8) Visualisation"
   ]
  },
  {
   "cell_type": "code",
   "execution_count": 232,
   "id": "cb1e3b1f",
   "metadata": {},
   "outputs": [
    {
     "data": {
      "image/png": "[encoded data removed]",
      "text/plain": [
       "<Figure size 600x600 with 1 Axes>"
      ]
     },
     "metadata": {},
     "output_type": "display_data"
    }
   ],
   "source": [
    "plt.figure(figsize=(6,6))\n",
    "plt.scatter(y_test, y_pred_rdg, s=30)         # points prédits\n",
    "mn = float(min(y_test.min(), y_pred_rdg.min()))\n",
    "mx = float(max(y_test.max(), y_pred_rdg.max()))\n",
    "plt.plot([mn, mx], [mn, mx], linestyle=\"--\")  # diagonale “parfaite”\n",
    "plt.xlabel(f\"{target_col} (vrai)\")\n",
    "plt.ylabel(f\"{target_col} (prédit)\")\n",
    "plt.title(\"Régression linéaire Ridge — Vrai vs Prédit\")\n",
    "plt.tight_layout()\n",
    "plt.show()"
   ]
  },
  {
   "cell_type": "markdown",
   "id": "c9b45b17",
   "metadata": {},
   "source": [
    "9) Interprétation simple"
   ]
  },
  {
   "cell_type": "code",
   "execution_count": 233,
   "id": "8de90a78",
   "metadata": {},
   "outputs": [
    {
     "name": "stdout",
     "output_type": "stream",
     "text": [
      "\n",
      "Coefficients (triés par |coef_Ridge|) :\n",
      "feature  coef_OLS  coef_Ridge\n",
      "    u-g -0.187848   -0.176767\n",
      "      u -0.105218   -0.115482\n",
      "      g -0.118074   -0.114369\n",
      "    g-r -0.102992   -0.100317\n",
      "    z-y  0.047613    0.047673\n",
      "    r-i -0.046319   -0.045430\n",
      "      y -0.044658   -0.044593\n",
      "      i  0.024945    0.025540\n",
      "      r -0.022932   -0.021561\n",
      "    i-z  0.012045    0.012296\n",
      "      z  0.008084    0.008312\n"
     ]
    }
   ],
   "source": [
    "coef_table = pd.DataFrame({\n",
    "    \"feature\": X_cols,\n",
    "    \"coef_OLS\": ols.coef_,\n",
    "    \"coef_Ridge\": ridge.coef_\n",
    "}).sort_values(\"coef_Ridge\", key=lambda s: s.abs(), ascending=False)\n",
    "print(\"\\nCoefficients (triés par |coef_Ridge|) :\")\n",
    "print(coef_table.to_string(index=False))"
   ]
  }
 ],
 "metadata": {
  "kernelspec": {
   "display_name": "base",
   "language": "python",
   "name": "python3"
  },
  "language_info": {
   "codemirror_mode": {
    "name": "ipython",
    "version": 3
   },
   "file_extension": ".py",
   "mimetype": "text/x-python",
   "name": "python",
   "nbconvert_exporter": "python",
   "pygments_lexer": "ipython3",
   "version": "3.13.5"
  }
 },
 "nbformat": 4,
 "nbformat_minor": 5
}
